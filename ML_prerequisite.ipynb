{
  "nbformat": 4,
  "nbformat_minor": 0,
  "metadata": {
    "colab": {
      "provenance": []
    },
    "kernelspec": {
      "name": "python3",
      "display_name": "Python 3"
    },
    "language_info": {
      "name": "python"
    }
  },
  "cells": [
    {
      "cell_type": "markdown",
      "source": [
        "1. How many multiplications and additions do you need to perform a matrix multiplication between a (n, k) and (k, m) matrix? Explain."
      ],
      "metadata": {
        "id": "guvOzsYz-8aY"
      }
    },
    {
      "cell_type": "markdown",
      "source": [
        "* Multiplications: Each element in the resultant matrix of size $(n,m)$ is calculated using dot product of a row from 1st matrix and a column from 2nd matrix, which means k multiplications needed to get a element but there are nxm elements in resultant matrix so total no of multiplications = $(n \\times m \\times k)$\n",
        "\n",
        "*   Additions:\n",
        "For addition one element is calculated by 1 less no from multiplication so a $(k-1)$ additions is needed but there are nxm elements in resultant matrix so total no of additions =  $(n \\times m \\times (k-1))$"
      ],
      "metadata": {
        "id": "kNhRJ8ak_IBo"
      }
    },
    {
      "cell_type": "markdown",
      "source": [
        "2. Write Python code to multiply the above two matrices. Solve using list of lists and then use numpy. Compare the timing of both solutions. Which one is faster? Why?"
      ],
      "metadata": {
        "id": "zKCCz9zSXR08"
      }
    },
    {
      "cell_type": "code",
      "source": [
        "import time\n",
        "import numpy as np\n",
        "\n",
        "# Defining the matrices\n",
        "\n",
        "A = [[1, 2, 3],\n",
        "    [4, 5, 6]]\n",
        "B = [[9, 8, 7, 4],\n",
        "    [6, 5, 4, 7],\n",
        "    [3, 2, 1, 2]]\n",
        "\n",
        "# Function to multiply matrices using list of lists\n",
        "def matrix_multiply_list_of_lists(A, B):\n",
        "    result = [[0 for _ in range(len(B[0]))] for _ in range(len(A))]\n",
        "\n",
        "    for i in range(len(A)):\n",
        "        for j in range(len(B[0])):\n",
        "            for k in range(len(B)):\n",
        "                result[i][j] += A[i][k] * B[k][j]\n",
        "\n",
        "    return result\n",
        "\n",
        "# Measuring time for list of lists multiplication\n",
        "start_time = time.time()\n",
        "result_list_of_lists = matrix_multiply_list_of_lists(A, B)\n",
        "end_time = time.time()\n",
        "\n",
        "time_list_of_lists = end_time - start_time\n",
        "print(\"List of Lists Result:\")\n",
        "print(result_list_of_lists)\n",
        "print(f\"Time taken (List of Lists): {time_list_of_lists} seconds\")\n",
        "\n",
        "# Function to multiply matrices using NumPy\n",
        "def matrix_multiplication_using_numpy(A, B):\n",
        "  A_np = np.array(A)\n",
        "  B_np = np.array(B)\n",
        "  return A_np.dot(B_np)\n",
        "\n",
        "# Measuring time for NumPy multiplication\n",
        "start_time = time.time()\n",
        "result_numpy = matrix_multiplication_using_numpy(A, B)\n",
        "end_time = time.time()\n",
        "\n",
        "time_numpy = end_time - start_time\n",
        "print(\"NumPy Result:\")\n",
        "print(result_numpy)\n",
        "print(f\"Time taken (NumPy): {time_numpy} seconds\")"
      ],
      "metadata": {
        "colab": {
          "base_uri": "https://localhost:8080/"
        },
        "id": "VUlnoPelffHo",
        "outputId": "d312ce5d-a5c0-429c-ecdc-60adc8a891dc"
      },
      "execution_count": 19,
      "outputs": [
        {
          "output_type": "stream",
          "name": "stdout",
          "text": [
            "List of Lists Result:\n",
            "[[30, 24, 18, 24], [84, 69, 54, 63]]\n",
            "Time taken (List of Lists): 0.00013399124145507812 seconds\n",
            "NumPy Result:\n",
            "[[30 24 18 24]\n",
            " [84 69 54 63]]\n",
            "Time taken (NumPy): 0.00011944770812988281 seconds\n"
          ]
        }
      ]
    },
    {
      "cell_type": "markdown",
      "source": [
        "\n",
        "\n",
        "> NumPy multiplication is typically faster than using lists of lists because NumPy is implemented in C, which is faster than Python loops. While exact timings can vary based on specific hardware and environment, NumPy is generally quicker for matrix operations due to its highly optimized and low-level implementation.\n",
        "\n"
      ],
      "metadata": {
        "id": "vrQd85a6k5W_"
      }
    },
    {
      "cell_type": "markdown",
      "source": [
        "3. Finding the highest element in a list requires one pass of the array. Finding the second highest element requires 2 passes of the the array. Using this method, what is the time complexity of finding the median of the array? Can you suggest a better method? Can you implement both these methods in Python and compare against numpy.median routine in terms of time?"
      ],
      "metadata": {
        "id": "srOsj4Kb9hGZ"
      }
    },
    {
      "cell_type": "markdown",
      "source": [
        "* Using the stated method,\n",
        "In 1st pass we have to compare $n$ elements then in 2nd pass we have to compare $(n-1)$ elements in 3rd pass compare $(n-2)$ elements and so on till we reach $\\frac{n}{2}$ which is median position \\\\\n",
        "* Time complexity = $O(n)+O(n-1)+O(n-2)+...+ O(\\frac{n}{2})$ \\\\\n",
        "* Using Arithmetic progression sum formula:\n",
        "* Time complexity = $O(\\frac{\\frac{n}{2}(n+\\frac{n}{2})}{2})$\n",
        "* Time complexity = $O(\\frac{3n^2}{8})$\n",
        "* So, this method's time complexity is $O(n^2),$ which is higher. \\\\\n",
        "* We can reduce it using a sorting technique, whose time complexity is $O(n\\log{n})$"
      ],
      "metadata": {
        "id": "70vV69GQA6bb"
      }
    },
    {
      "cell_type": "code",
      "source": [
        "import random\n",
        "import time\n",
        "import numpy as np\n",
        "\n",
        "# Sequential method to find the median O(n^2)\n",
        "def find_median_sequential(arr):\n",
        "    n = len(arr)\n",
        "    if n == 0:\n",
        "        return None\n",
        "\n",
        "    if n % 2 == 1:\n",
        "        median_pos1 = n // 2\n",
        "        median_pos2 = None\n",
        "    else:\n",
        "        median_pos1 = n // 2 - 1\n",
        "        median_pos2 = n // 2\n",
        "\n",
        "    for i in range(n):\n",
        "        max_index = i\n",
        "        for j in range(i + 1, n):\n",
        "            if arr[j] > arr[max_index]:\n",
        "                max_index = j\n",
        "        arr[i], arr[max_index] = arr[max_index], arr[i]\n",
        "\n",
        "        if i == median_pos1:\n",
        "            median1 = arr[i]\n",
        "            if n%2 == 1:\n",
        "              break\n",
        "        if i == median_pos2:\n",
        "            median2 = arr[i]\n",
        "            break\n",
        "\n",
        "    if n % 2 == 1:\n",
        "        return median1\n",
        "    else:\n",
        "        return (median1 + median2) / 2\n",
        "\n",
        "# Quickselect method to find the median O(nlogn)\n",
        "def quickselect(arr, k):\n",
        "    if len(arr) == 1:\n",
        "        return arr[0]\n",
        "\n",
        "    pivot = random.choice(arr)\n",
        "\n",
        "    lows = [el for el in arr if el < pivot]\n",
        "    highs = [el for el in arr if el > pivot]\n",
        "    pivots = [el for el in arr if el == pivot]\n",
        "\n",
        "    if k < len(lows):\n",
        "        return quickselect(lows, k)\n",
        "    elif k < len(lows) + len(pivots):\n",
        "        return pivots[0]\n",
        "    else:\n",
        "        return quickselect(highs, k - len(lows) - len(pivots))\n",
        "\n",
        "def find_median_quickselect(arr):\n",
        "    n = len(arr)\n",
        "    if n % 2 == 1:\n",
        "        return quickselect(arr, n // 2)\n",
        "    else:\n",
        "        return 0.5 * (quickselect(arr, n // 2 - 1) + quickselect(arr, n // 2))\n",
        "\n",
        "# Function to time a function call\n",
        "def time_function(func, *args):\n",
        "    start_time = time.time()\n",
        "    result = func(*args)\n",
        "    end_time = time.time()\n",
        "    return result, end_time - start_time\n",
        "\n",
        "# Generate a random array\n",
        "arr = [random.randint(0, 1000) for _ in range(10000)]\n",
        "\n",
        "# Time the sequential method\n",
        "seq_median, seq_time = time_function(find_median_sequential, arr.copy())\n",
        "print(f\"Sequential Median: {seq_median}, Time taken: {seq_time:.6f} seconds\")\n",
        "\n",
        "# Time the quickselect method\n",
        "qs_median, qs_time = time_function(find_median_quickselect, arr.copy())\n",
        "print(f\"Quickselect Median: {qs_median}, Time taken: {qs_time:.6f} seconds\")\n",
        "\n",
        "# Time the numpy median method\n",
        "np_start_time = time.time()\n",
        "np_median = np.median(arr)\n",
        "np_end_time = time.time()\n",
        "np_time = np_end_time - np_start_time\n",
        "print(f\"NumPy Median: {np_median}, Time taken: {np_time:.6f} seconds\")"
      ],
      "metadata": {
        "colab": {
          "base_uri": "https://localhost:8080/"
        },
        "id": "gYXEgwYRnNGA",
        "outputId": "66c41c38-981a-4330-a52c-b286cb1acea5"
      },
      "execution_count": 20,
      "outputs": [
        {
          "output_type": "stream",
          "name": "stdout",
          "text": [
            "Sequential Median: 496.0, Time taken: 3.309395 seconds\n",
            "Quickselect Median: 496.0, Time taken: 0.012137 seconds\n",
            "NumPy Median: 496.0, Time taken: 0.001619 seconds\n"
          ]
        }
      ]
    },
    {
      "cell_type": "markdown",
      "source": [
        "4. What is the gradient of the following function with respect to x and y?\n",
        "\\begin{equation}\n",
        "f(x, y) = x^2 y + y^3 \\sin x\n",
        "\\end{equation}"
      ],
      "metadata": {
        "id": "XKyzKHbyN5Yr"
      }
    },
    {
      "cell_type": "markdown",
      "source": [
        "* To find the gradient of the function $f(x, y) = x^2 y + y^3 \\sin x $\n",
        " with respect to $ x $ and $y$, we need to compute the partial derivatives of $ f $ with respect to $ x $ and $ y $.\n",
        "* Partial Derivative with respect to $ x $ \\\\\n",
        "* Differentiating $ x^2 y $ with respect to $x$: \\\\\n",
        "$\\frac{∂}{∂x}(x^2 y) = 2xy$\n",
        "* Differentiating $ y^3 \\sin x $ with respect to $x$: \\\\\n",
        "$\\frac{∂}{∂x}(y^3 \\sin x) = y^3 \\cos x$ \\\\\n",
        "* Combining these results, we get the partial derivative of $ f $ with respect to $ x $: \\\\\n",
        "$\\frac{\\partial f}{\\partial x} = 2xy + y^3 \\cos x $\n",
        "* Partial Derivative with respect to $ y $\n",
        "\n",
        "* Differentiating $ x^2 y $ with respect to $y$: \\\\\n",
        "$\\frac{∂}{∂y}(x^2 y) = x^2$\n",
        "\n",
        "* Differentiating $y^3 \\sin x$ with respect to $y$: \\\\\n",
        "$\\frac{\\partial}{\\partial y} (y^3 \\sin x) = 3y^2 \\sin x$ \\\\\n",
        "* Combining these results, we get the partial derivative of $ f $ with respect to $y $: \\\\\n",
        "$ \\frac{\\partial f}{\\partial y} = x^2 + 3y^2 \\sin x $\n",
        "* The gradient of $ f(x, y) $, denoted as $ \\nabla f(x, y) $, is the vector of its partial derivatives: \\\\\n",
        "$ \\nabla f(x, y) = \\left( \\frac{\\partial f}{\\partial x}, \\frac{\\partial f}{\\partial y} \\right) $\n",
        "* Substituting the partial derivatives we found: \\\\\n",
        "$ \\nabla f(x, y) = \\left( 2xy + y^3 \\cos x, x^2 + 3y^2 \\sin x \\right) $\n",
        "* So, the gradient of the function $ f(x, y) = x^2 y + y^3 \\sin x $ with respect to $ x $ and $y $ is: \\\\\n",
        "$ \\nabla f(x, y) = \\left( 2xy + y^3 \\cos x, x^2 + 3y^2 \\sin x \\right) $\n"
      ],
      "metadata": {
        "id": "KF2M2cz2o4UK"
      }
    },
    {
      "cell_type": "markdown",
      "source": [
        "5. Use `JAX` to confirm the gradient evaluated by your method matchesanalytical solution \\\\\n",
        " corresponding to a few random values of $x$ and $y$"
      ],
      "metadata": {
        "id": "iDtGL61YRc39"
      }
    },
    {
      "cell_type": "code",
      "source": [
        "import jax.numpy as jnp\n",
        "from jax import grad\n",
        "\n",
        "def f(x, y):\n",
        "    return x**2 * y + y**3 * jnp.sin(x)\n",
        "\n",
        "def gradient(fun, x, y, h=1e-5): #  using defination of differentiation\n",
        "    df_dx = (fun(x + h, y) - fun(x, y)) / h\n",
        "    df_dy = (fun(x, y + h) - fun(x, y)) / h\n",
        "    return df_dx, df_dy\n",
        "\n",
        "# Compute the gradient using JAX\n",
        "grad_f_x = grad(f, argnums=0)\n",
        "grad_f_y = grad(f, argnums=1)\n",
        "\n",
        "# Test values\n",
        "x_values = np.random.rand(5)\n",
        "y_values = np.random.rand(5)\n",
        "\n",
        "# Compute and print the gradients\n",
        "print(\"JAX Gradients:\")\n",
        "for x, y in zip(x_values, y_values):\n",
        "    grad_x = grad_f_x(x, y)\n",
        "    grad_y = grad_f_y(x, y)\n",
        "    print(f\"f({x:.4f}, {y:.4f}) -> grad_x: {grad_x:.4f}, grad_y: {grad_y:.4f}\")\n",
        "\n",
        "print(\"\\nAnalytical Gradients:\")\n",
        "for x, y in zip(x_values, y_values):\n",
        "    # Compute the analytical gradients which are resulted in above block\n",
        "    grad_x_analytical = 2 * x * y + y**3 * np.cos(x)\n",
        "    grad_y_analytical = x**2 + 3 * y**2 * np.sin(x)\n",
        "    print(f\"f({x:.4f}, {y:.4f}) ->  grad_x: {grad_x_analytical:.4f}, grad_y: {grad_y_analytical:.4f}\")\n",
        "    print(f\"Using defination: f({x:.4f}, {y:.4f}) -> grad_x: {gradient(f,x,y)[0]:.4f}, grad_y: {gradient(f,x,y)[1]:.4f}\")"
      ],
      "metadata": {
        "colab": {
          "base_uri": "https://localhost:8080/"
        },
        "id": "m1wV27Zdpbsx",
        "outputId": "c6928545-959e-48d7-8c7d-32a501a12c3c"
      },
      "execution_count": 21,
      "outputs": [
        {
          "output_type": "stream",
          "name": "stdout",
          "text": [
            "JAX Gradients:\n",
            "f(0.1156, 0.0393) -> grad_x: 0.0092, grad_y: 0.0139\n",
            "f(0.3853, 0.8084) -> grad_x: 1.1123, grad_y: 0.8851\n",
            "f(0.3661, 0.8236) -> grad_x: 1.1247, grad_y: 0.8625\n",
            "f(0.4163, 0.2902) -> grad_x: 0.2640, grad_y: 0.2755\n",
            "f(0.8115, 0.9125) -> grad_x: 2.0042, grad_y: 2.4706\n",
            "\n",
            "Analytical Gradients:\n",
            "f(0.1156, 0.0393) ->  grad_x: 0.0092, grad_y: 0.0139\n",
            "Using defination: f(0.1156, 0.0393) -> grad_x: 0.0092, grad_y: 0.0139\n",
            "f(0.3853, 0.8084) ->  grad_x: 1.1123, grad_y: 0.8851\n",
            "Using defination: f(0.3853, 0.8084) -> grad_x: 1.1146, grad_y: 0.8881\n",
            "f(0.3661, 0.8236) ->  grad_x: 1.1247, grad_y: 0.8625\n",
            "Using defination: f(0.3661, 0.8236) -> grad_x: 1.1265, grad_y: 0.8613\n",
            "f(0.4163, 0.2902) ->  grad_x: 0.2640, grad_y: 0.2755\n",
            "Using defination: f(0.4163, 0.2902) -> grad_x: 0.2641, grad_y: 0.2760\n",
            "f(0.8115, 0.9125) ->  grad_x: 2.0042, grad_y: 2.4706\n",
            "Using defination: f(0.8115, 0.9125) -> grad_x: 2.0027, grad_y: 2.4796\n"
          ]
        }
      ]
    },
    {
      "cell_type": "markdown",
      "source": [
        "6. Use `sympy` to confirm that you obtain the same gradient analytically."
      ],
      "metadata": {
        "id": "bsvpmCOQSAFu"
      }
    },
    {
      "cell_type": "code",
      "source": [
        "import sympy as sp\n",
        "\n",
        "# Define the symbols\n",
        "x, y = sp.symbols('x y')\n",
        "\n",
        "# Define the function\n",
        "f = x**2 * y + y**3 * sp.sin(x)\n",
        "\n",
        "# Compute the partial derivatives\n",
        "grad_f_x_sympy = sp.diff(f, x)\n",
        "grad_f_y_sympy = sp.diff(f, y)\n",
        "\n",
        "# Display the symbolic gradients\n",
        "print(\"SymPy Gradients:\")\n",
        "print(f\"∂f/∂x = {grad_f_x_sympy}\")\n",
        "print(f\"∂f/∂y = {grad_f_y_sympy}\")\n",
        "\n",
        "# Evaluate the gradients at the same test values\n",
        "print(\"\\nEvaluated SymPy Gradients:\")\n",
        "for x_val, y_val in zip(x_values, y_values):\n",
        "    grad_x_val = grad_f_x_sympy.evalf(subs={x: x_val, y: y_val})\n",
        "    grad_y_val = grad_f_y_sympy.evalf(subs={x: x_val, y: y_val})\n",
        "    print(f\"f({x_val:.4f}, {y_val:.4f}) -> grad_x: {grad_x_val:.4f}, grad_y: {grad_y_val:.4f}\")"
      ],
      "metadata": {
        "colab": {
          "base_uri": "https://localhost:8080/"
        },
        "id": "M4m8wRUqr1z-",
        "outputId": "ca93b927-a9d4-4cd1-a0c3-fd76575a25f5"
      },
      "execution_count": 22,
      "outputs": [
        {
          "output_type": "stream",
          "name": "stdout",
          "text": [
            "SymPy Gradients:\n",
            "∂f/∂x = 2*x*y + y**3*cos(x)\n",
            "∂f/∂y = x**2 + 3*y**2*sin(x)\n",
            "\n",
            "Evaluated SymPy Gradients:\n",
            "f(0.1156, 0.0393) -> grad_x: 0.0092, grad_y: 0.0139\n",
            "f(0.3853, 0.8084) -> grad_x: 1.1123, grad_y: 0.8851\n",
            "f(0.3661, 0.8236) -> grad_x: 1.1247, grad_y: 0.8625\n",
            "f(0.4163, 0.2902) -> grad_x: 0.2640, grad_y: 0.2755\n",
            "f(0.8115, 0.9125) -> grad_x: 2.0042, grad_y: 2.4706\n"
          ]
        }
      ]
    },
    {
      "cell_type": "markdown",
      "source": [
        "7. Create a Python nested dictionary to represent hierarchical information. We want to store record of students and their marks."
      ],
      "metadata": {
        "id": "9-BELDIBSMne"
      }
    },
    {
      "cell_type": "code",
      "source": [
        "students_records = {\n",
        "    2022: {\n",
        "        \"Branch 1\": {\n",
        "            1: {\"Name\": \"N\", \"Marks\": {\"Maths\": 100, \"English\": 70}},\n",
        "            2: {\"Name\": \"M\", \"Marks\": {\"Maths\": 90, \"English\": 80}},\n",
        "        },\n",
        "        \"Branch 2\": {\n",
        "            3: {\"Name\": \"O\", \"Marks\": {\"Maths\": 85, \"English\": 75}},\n",
        "            4: {\"Name\": \"P\", \"Marks\": {\"Maths\": 95, \"English\": 65}},\n",
        "        },\n",
        "    },\n",
        "    2023: {\n",
        "        \"Branch 1\": {\n",
        "            5: {\"Name\": \"Q\", \"Marks\": {\"Maths\": 88, \"English\": 78}},\n",
        "            6: {\"Name\": \"R\", \"Marks\": {\"Maths\": 92, \"English\": 82}},\n",
        "        },\n",
        "        \"Branch 2\": {\n",
        "            7: {\"Name\": \"S\", \"Marks\": {\"Maths\": 78, \"English\": 88}},\n",
        "            8: {\"Name\": \"T\", \"Marks\": {\"Maths\": 85, \"English\": 90}},\n",
        "        },\n",
        "    },\n",
        "    2024: {\n",
        "        \"Branch 1\": {\n",
        "            9: {\"Name\": \"U\", \"Marks\": {\"Maths\": 80, \"English\": 85}},\n",
        "            10: {\"Name\": \"V\", \"Marks\": {\"Maths\": 90, \"English\": 88}},\n",
        "        },\n",
        "        \"Branch 2\": {\n",
        "            11: {\"Name\": \"W\", \"Marks\": {\"Maths\": 95, \"English\": 78}},\n",
        "            12: {\"Name\": \"X\", \"Marks\": {\"Maths\": 85, \"English\": 89}},\n",
        "        },\n",
        "    },\n",
        "    2025: {\n",
        "        \"Branch 1\": {\n",
        "            13: {\"Name\": \"Y\", \"Marks\": {\"Maths\": 88, \"English\": 92}},\n",
        "            14: {\"Name\": \"Z\", \"Marks\": {\"Maths\": 90, \"English\": 94}},\n",
        "        },\n",
        "        \"Branch 2\": {\n",
        "            15: {\"Name\": \"A\", \"Marks\": {\"Maths\": 80, \"English\": 86}},\n",
        "            16: {\"Name\": \"B\", \"Marks\": {\"Maths\": 85, \"English\": 84}},\n",
        "        },\n",
        "    },\n",
        "}\n",
        "\n",
        "# Example of accessing data\n",
        "year = 2025\n",
        "branch = \"Branch 2\"\n",
        "roll_number = 16\n",
        "\n",
        "student_info = students_records[year][branch][roll_number]\n",
        "print(f\"Name: {student_info['Name']}, Marks: {student_info['Marks']}\")"
      ],
      "metadata": {
        "id": "MhtnwoUdQM74",
        "colab": {
          "base_uri": "https://localhost:8080/"
        },
        "outputId": "a1b3d2a1-fca7-4097-8518-a03b5141e69c"
      },
      "execution_count": 23,
      "outputs": [
        {
          "output_type": "stream",
          "name": "stdout",
          "text": [
            "Name: B, Marks: {'Maths': 85, 'English': 84}\n"
          ]
        }
      ]
    },
    {
      "cell_type": "markdown",
      "source": [
        "8. Store the same information using Python classes. We have an overall database which is a list of year objects. Each year contains a list of branches. Each branch contains a list of students. Each student has some properties like name, roll number and has marks in some subjects."
      ],
      "metadata": {
        "id": "aezf93VqZezN"
      }
    },
    {
      "cell_type": "code",
      "source": [
        "class Marks:\n",
        "    def __init__(self, maths, english):\n",
        "        self.maths = maths\n",
        "        self.english = english\n",
        "    def __str__(self):\n",
        "        return f\"Maths: {self.maths}, English: {self.english}\"\n",
        "\n",
        "class Student:\n",
        "    def __init__(self, roll_number, name, marks): # constructor\n",
        "        self.roll_number = roll_number\n",
        "        self.name = name\n",
        "        self.marks = marks\n",
        "    def __str__(self):\n",
        "        return f\"Roll Number: {self.roll_number}, Name: {self.name}, Marks: {self.marks}\"\n",
        "\n",
        "class Branch:\n",
        "    def __init__(self, name):\n",
        "        self.name = name\n",
        "        self.students = []\n",
        "    def add_student(self, student):\n",
        "        self.students.append(student)\n",
        "    def __str__(self):\n",
        "        students_info = \"\\n  \".join(str(student) for student in self.students)\n",
        "        return f\"Branch: {self.name}, Students: \\n  {students_info}\"\n",
        "\n",
        "class Year:\n",
        "    def __init__(self, year):\n",
        "        self.year = year\n",
        "        self.branches = []\n",
        "    def add_branch(self, branch):\n",
        "        self.branches.append(branch)\n",
        "    def __str__(self):\n",
        "        branches_info = \"\\n  \".join(str(branch) for branch in self.branches)\n",
        "        return f\"Year: {self.year}, Branches: \\n  {branches_info}\"\n",
        "\n",
        "class Database:\n",
        "    def __init__(self):\n",
        "        self.years = []\n",
        "    def add_year(self, year):\n",
        "        self.years.append(year)\n",
        "    def __str__(self):\n",
        "        years_info = \"\\n  \".join(str(year) for year in self.years)\n",
        "        return f\"Database: \\n  {years_info}\"\n",
        "\n",
        "# Creating the database\n",
        "database = Database()\n",
        "\n",
        "# Adding years\n",
        "year_2022 = Year(2022)\n",
        "branch_1_2022 = Branch(\"Branch 1\")\n",
        "branch_1_2022.add_student(Student(1, \"N\", Marks(100, 70)))\n",
        "branch_1_2022.add_student(Student(2, \"M\", Marks(90, 80)))\n",
        "branch_2_2022 = Branch(\"Branch 2\")\n",
        "branch_2_2022.add_student(Student(3, \"O\", Marks(85, 75)))\n",
        "branch_2_2022.add_student(Student(4, \"P\", Marks(95, 65)))\n",
        "year_2022.add_branch(branch_1_2022)\n",
        "year_2022.add_branch(branch_2_2022)\n",
        "database.add_year(year_2022)\n",
        "\n",
        "year_2023 = Year(2023)\n",
        "branch_1_2023 = Branch(\"Branch 1\")\n",
        "branch_1_2023.add_student(Student(5, \"Q\", Marks(88, 78)))\n",
        "branch_1_2023.add_student(Student(6, \"R\", Marks(92, 82)))\n",
        "branch_2_2023 = Branch(\"Branch 2\")\n",
        "branch_2_2023.add_student(Student(7, \"S\", Marks(78, 88)))\n",
        "branch_2_2023.add_student(Student(8, \"T\", Marks(85, 90)))\n",
        "year_2023.add_branch(branch_1_2023)\n",
        "year_2023.add_branch(branch_2_2023)\n",
        "database.add_year(year_2023)\n",
        "\n",
        "print(database)"
      ],
      "metadata": {
        "id": "afwzXsXoZa9P",
        "colab": {
          "base_uri": "https://localhost:8080/"
        },
        "outputId": "76413c82-e38a-475f-a2f6-a5e15d22675f"
      },
      "execution_count": 24,
      "outputs": [
        {
          "output_type": "stream",
          "name": "stdout",
          "text": [
            "Database: \n",
            "  Year: 2022, Branches: \n",
            "  Branch: Branch 1, Students: \n",
            "  Roll Number: 1, Name: N, Marks: Maths: 100, English: 70\n",
            "  Roll Number: 2, Name: M, Marks: Maths: 90, English: 80\n",
            "  Branch: Branch 2, Students: \n",
            "  Roll Number: 3, Name: O, Marks: Maths: 85, English: 75\n",
            "  Roll Number: 4, Name: P, Marks: Maths: 95, English: 65\n",
            "  Year: 2023, Branches: \n",
            "  Branch: Branch 1, Students: \n",
            "  Roll Number: 5, Name: Q, Marks: Maths: 88, English: 78\n",
            "  Roll Number: 6, Name: R, Marks: Maths: 92, English: 82\n",
            "  Branch: Branch 2, Students: \n",
            "  Roll Number: 7, Name: S, Marks: Maths: 78, English: 88\n",
            "  Roll Number: 8, Name: T, Marks: Maths: 85, English: 90\n"
          ]
        }
      ]
    },
    {
      "cell_type": "markdown",
      "source": [
        "9. Using matplotlib plot the following functions on the domain: x = 0.5 to 100.0 in steps of 0.5."
      ],
      "metadata": {
        "id": "COKUsCJ8SUYt"
      }
    },
    {
      "cell_type": "markdown",
      "source": [
        "\n",
        "\n",
        "\n",
        "a. $ y = x $\n",
        "\n",
        "\n"
      ],
      "metadata": {
        "id": "kQI61IXASrcF"
      }
    },
    {
      "cell_type": "code",
      "source": [
        "import numpy as np\n",
        "import matplotlib.pyplot as plt\n",
        "\n",
        "# Defining the domain\n",
        "x = np.arange(0.5, 100.5, 0.5)\n",
        "\n",
        "# Defining the functions\n",
        "y1 = x\n",
        "\n",
        "plt.plot(x, y1, label='$y=x$')\n",
        "# Add a legend\n",
        "plt.legend()\n",
        "\n",
        "# Add titles and labels\n",
        "plt.title('$y=x$')\n",
        "plt.xlabel('x')\n",
        "plt.ylabel('y')\n",
        "\n",
        "# Show the plot\n",
        "plt.grid(True)\n",
        "plt.show()"
      ],
      "metadata": {
        "colab": {
          "base_uri": "https://localhost:8080/",
          "height": 470
        },
        "id": "XkxEvBT_v_YW",
        "outputId": "8cbcdb84-4542-4ebe-a2fd-fa6d7fb94c81"
      },
      "execution_count": 25,
      "outputs": [
        {
          "output_type": "display_data",
          "data": {
            "text/plain": [
              "<Figure size 640x480 with 1 Axes>"
            ],
            "image/png": "[encoded data removed]"
          },
          "metadata": {}
        }
      ]
    },
    {
      "cell_type": "markdown",
      "source": [
        "b. $y=x^2$"
      ],
      "metadata": {
        "id": "zzs0vRuRTUyf"
      }
    },
    {
      "cell_type": "code",
      "source": [
        "y2 = x**2\n",
        "plt.plot(x, y2, label='$y=x^2$',color='red')\n",
        "\n",
        "# Add a legend\n",
        "plt.legend()\n",
        "\n",
        "# Add titles and labels\n",
        "plt.title('$y=x^2$')\n",
        "plt.xlabel('x')\n",
        "plt.ylabel('y')\n",
        "plt.grid(True)\n",
        "plt.show()"
      ],
      "metadata": {
        "colab": {
          "base_uri": "https://localhost:8080/",
          "height": 476
        },
        "id": "6af-w3e300ya",
        "outputId": "7163254e-a26d-4ec6-a783-979c681e0ab5"
      },
      "execution_count": 26,
      "outputs": [
        {
          "output_type": "display_data",
          "data": {
            "text/plain": [
              "<Figure size 640x480 with 1 Axes>"
            ],
            "image/png": "[encoded data removed]"
          },
          "metadata": {}
        }
      ]
    },
    {
      "cell_type": "markdown",
      "source": [
        "c. $y=\\frac{x^3}{100}$"
      ],
      "metadata": {
        "id": "NBY2iqpqTafA"
      }
    },
    {
      "cell_type": "code",
      "source": [
        "y3 = x**3 / 100\n",
        "plt.plot(x, y3, label='$y=\\\\frac{x^3}{100}$',color='purple')\n",
        "\n",
        "# Add a legend\n",
        "plt.legend()\n",
        "\n",
        "# Add titles and labels\n",
        "plt.title('$y=\\\\frac{x^3}{100}$')\n",
        "plt.xlabel('x')\n",
        "plt.ylabel('y')\n",
        "plt.grid(True)\n",
        "plt.show()"
      ],
      "metadata": {
        "colab": {
          "base_uri": "https://localhost:8080/",
          "height": 480
        },
        "id": "OydL1iws1j48",
        "outputId": "8097bb9a-3611-43ed-de19-2640107f9338"
      },
      "execution_count": 27,
      "outputs": [
        {
          "output_type": "display_data",
          "data": {
            "text/plain": [
              "<Figure size 640x480 with 1 Axes>"
            ],
            "image/png": "[encoded data removed]"
          },
          "metadata": {}
        }
      ]
    },
    {
      "cell_type": "markdown",
      "source": [
        "d. $y=\\sin(x)$"
      ],
      "metadata": {
        "id": "kHYwM6LxTojF"
      }
    },
    {
      "cell_type": "code",
      "source": [
        "y4 = np.sin(x)\n",
        "plt.plot(x, y4, label='$y=\\sin(x)$',color='yellow')\n",
        "\n",
        "# Add a legend\n",
        "plt.legend()\n",
        "\n",
        "# Add titles and labels\n",
        "plt.title('$y=\\sin(x)$')\n",
        "plt.xlabel('x')\n",
        "plt.ylabel('y')\n",
        "plt.grid(True)\n",
        "plt.ylim(-5, 5)\n",
        "plt.show()"
      ],
      "metadata": {
        "colab": {
          "base_uri": "https://localhost:8080/",
          "height": 474
        },
        "id": "tHDL6q_Q2Cvd",
        "outputId": "0cd6c456-2d7d-451e-ee86-c2f165359fb3"
      },
      "execution_count": 28,
      "outputs": [
        {
          "output_type": "display_data",
          "data": {
            "text/plain": [
              "<Figure size 640x480 with 1 Axes>"
            ],
            "image/png": "[encoded data removed]"
          },
          "metadata": {}
        }
      ]
    },
    {
      "cell_type": "markdown",
      "source": [
        "e. $y=\\frac{\\sin(x)}{x}$"
      ],
      "metadata": {
        "id": "I17J0o_DTuZw"
      }
    },
    {
      "cell_type": "code",
      "source": [
        "y5 = np.sin(x) / x\n",
        "plt.plot(x, y5, label='$y=\\\\frac{\\sin(x)}{x}$',color='green')\n",
        "# Add a legend\n",
        "plt.legend()\n",
        "\n",
        "# Add titles and labels\n",
        "plt.title('$y=\\\\frac{\\sin(x)}{x}$')\n",
        "plt.xlabel('x')\n",
        "plt.ylabel('y')\n",
        "plt.grid(True)\n",
        "plt.show()"
      ],
      "metadata": {
        "colab": {
          "base_uri": "https://localhost:8080/",
          "height": 479
        },
        "id": "tZ9FfxJ_2U8k",
        "outputId": "24f0e0b8-4684-49f6-d707-578bd5d16a6d"
      },
      "execution_count": 29,
      "outputs": [
        {
          "output_type": "display_data",
          "data": {
            "text/plain": [
              "<Figure size 640x480 with 1 Axes>"
            ],
            "image/png": "[encoded data removed]"
          },
          "metadata": {}
        }
      ]
    },
    {
      "cell_type": "markdown",
      "source": [
        "f. $y=\\log(x)$"
      ],
      "metadata": {
        "id": "ixJ9Az2dT4CI"
      }
    },
    {
      "cell_type": "code",
      "source": [
        "y6 = np.log(x)\n",
        "plt.plot(x, y6, label='$y=\\log(x)$',color='blue')\n",
        "# Add a legend\n",
        "plt.legend()\n",
        "\n",
        "# Add titles and labels\n",
        "plt.title('$y=\\log(x)$')\n",
        "plt.xlabel('x')\n",
        "plt.ylabel('y')\n",
        "plt.grid(True)\n",
        "plt.show()"
      ],
      "metadata": {
        "colab": {
          "base_uri": "https://localhost:8080/",
          "height": 474
        },
        "id": "VMwT8Khc2tHp",
        "outputId": "244f1c77-710f-4a71-8fd6-1d6554eb0b77"
      },
      "execution_count": 30,
      "outputs": [
        {
          "output_type": "display_data",
          "data": {
            "text/plain": [
              "<Figure size 640x480 with 1 Axes>"
            ],
            "image/png": "[encoded data removed]"
          },
          "metadata": {}
        }
      ]
    },
    {
      "cell_type": "markdown",
      "source": [
        "g. $y=e^x$"
      ],
      "metadata": {
        "id": "dNCFKPspT_zK"
      }
    },
    {
      "cell_type": "code",
      "source": [
        "y7 = np.exp(x)\n",
        "plt.plot(x, y7, label='$y=e^x$',color='orange')\n",
        "\n",
        "# Add a legend\n",
        "plt.legend()\n",
        "\n",
        "# Add titles and labels\n",
        "plt.title('$y=e^x$')\n",
        "plt.xlabel('x')\n",
        "plt.ylabel('y')\n",
        "plt.grid(True)\n",
        "plt.show()"
      ],
      "metadata": {
        "colab": {
          "base_uri": "https://localhost:8080/",
          "height": 474
        },
        "id": "rdm6_wXQ2veK",
        "outputId": "0e629834-a1d3-47cf-ea11-2d2e334d2eb5"
      },
      "execution_count": 31,
      "outputs": [
        {
          "output_type": "display_data",
          "data": {
            "text/plain": [
              "<Figure size 640x480 with 1 Axes>"
            ],
            "image/png": "[encoded data removed]"
          },
          "metadata": {}
        }
      ]
    },
    {
      "cell_type": "markdown",
      "source": [
        "10. Using numpy generate a matrix of size 20X5 containing random numbers drawn uniformly from the range of 1 to 2. Using Pandas create a dataframe out of this matrix. Name the columns of the dataframe as “a”, “b”, “c”, “d”, “e”. Find the column with the highest standard deviation. Find the row with the lowest mean."
      ],
      "metadata": {
        "id": "efR1CDomM2ka"
      }
    },
    {
      "cell_type": "code",
      "source": [
        "import numpy as np\n",
        "import pandas as pd\n",
        "\n",
        "# Generate a 20x5 matrix with random numbers drawn uniformly from the range 1 to 2\n",
        "matrix = np.random.uniform(1, 2, size=(20, 5))\n",
        "\n",
        "# Create a dataframe from the matrix with column names a, b, c, d, e\n",
        "df = pd.DataFrame(matrix, columns=[\"a\", \"b\", \"c\", \"d\", \"e\"])\n",
        "\n",
        "# Finding the index of column with the highest standard deviation\n",
        "highest_std_column = df.std().idxmax()\n",
        "\n",
        "# Finding the index of row with the lowest mean\n",
        "lowest_mean_row = df.mean(axis=1).idxmin()\n",
        "\n",
        "print(\"Column with highest standard deviation: \", highest_std_column)\n",
        "print(df[highest_std_column])\n",
        "print(\"Row with lowest mean: \", lowest_mean_row)\n",
        "df.loc[lowest_mean_row]"
      ],
      "metadata": {
        "colab": {
          "base_uri": "https://localhost:8080/"
        },
        "id": "vm_D1iS83w4U",
        "outputId": "a43b8352-4534-43ef-d745-7ace45e39a94"
      },
      "execution_count": 32,
      "outputs": [
        {
          "output_type": "stream",
          "name": "stdout",
          "text": [
            "Column with highest standard deviation:  e\n",
            "0     1.327112\n",
            "1     1.160332\n",
            "2     1.027890\n",
            "3     1.745263\n",
            "4     1.919672\n",
            "5     1.197281\n",
            "6     1.958834\n",
            "7     1.473487\n",
            "8     1.098395\n",
            "9     1.190141\n",
            "10    1.280533\n",
            "11    1.081265\n",
            "12    1.031088\n",
            "13    1.892045\n",
            "14    1.886065\n",
            "15    1.097060\n",
            "16    1.463595\n",
            "17    1.117741\n",
            "18    1.645706\n",
            "19    1.589967\n",
            "Name: e, dtype: float64\n",
            "Row with lowest mean:  11\n"
          ]
        },
        {
          "output_type": "execute_result",
          "data": {
            "text/plain": [
              "a    1.317602\n",
              "b    1.157423\n",
              "c    1.082454\n",
              "d    1.130274\n",
              "e    1.081265\n",
              "Name: 11, dtype: float64"
            ]
          },
          "metadata": {},
          "execution_count": 32
        }
      ]
    },
    {
      "cell_type": "code",
      "source": [
        "print(df)"
      ],
      "metadata": {
        "colab": {
          "base_uri": "https://localhost:8080/"
        },
        "id": "vU6J3ajbMF4-",
        "outputId": "bcae88a8-94dd-4498-e7d6-211bd5e85007"
      },
      "execution_count": 33,
      "outputs": [
        {
          "output_type": "stream",
          "name": "stdout",
          "text": [
            "           a         b         c         d         e\n",
            "0   1.063790  1.787803  1.995091  1.193856  1.327112\n",
            "1   1.163736  1.470567  1.813976  1.664837  1.160332\n",
            "2   1.263711  1.834289  1.123562  1.584730  1.027890\n",
            "3   1.990817  1.331536  1.763171  1.964812  1.745263\n",
            "4   1.868298  1.086286  1.857985  1.827975  1.919672\n",
            "5   1.715636  1.565501  1.984499  1.694227  1.197281\n",
            "6   1.154000  1.967761  1.911230  1.742631  1.958834\n",
            "7   1.498350  1.366419  1.879312  1.324264  1.473487\n",
            "8   1.303748  1.507790  1.897569  1.979831  1.098395\n",
            "9   1.164133  1.236802  1.518530  1.899642  1.190141\n",
            "10  1.038403  1.832716  1.797279  1.220726  1.280533\n",
            "11  1.317602  1.157423  1.082454  1.130274  1.081265\n",
            "12  1.575681  1.663051  1.798643  1.120222  1.031088\n",
            "13  1.864116  1.680895  1.421788  1.644568  1.892045\n",
            "14  1.096017  1.326775  1.889753  1.485231  1.886065\n",
            "15  1.205342  1.268404  1.925978  1.843952  1.097060\n",
            "16  1.856966  1.175532  1.282865  1.633346  1.463595\n",
            "17  1.709419  1.829921  1.910786  1.756003  1.117741\n",
            "18  1.639826  1.350534  1.968446  1.232771  1.645706\n",
            "19  1.010554  1.254102  1.440401  1.128242  1.589967\n"
          ]
        }
      ]
    },
    {
      "cell_type": "markdown",
      "source": [
        "11. Add a new column to the dataframe called “f” which is the sum of the columns “a”, “b”, “c”, “d”, “e”. Create another column called “g”. The value in the column “g” should be “LT8” if the value in the column “f” is less than 8 and “GT8” otherwise. Find the number of rows in the dataframe where the value in the column “g” is “LT8”. Find the standard deviation of the column “f” for the rows where the value in the column “g” is “LT8” and “GT8” respectively"
      ],
      "metadata": {
        "id": "6edmEegORhHV"
      }
    },
    {
      "cell_type": "code",
      "source": [
        "df[\"f\"] = df.sum(axis=1)\n",
        "df[\"g\"] = df[\"f\"].apply(lambda x: \"LT8\" if x < 8 else \"GT8\")\n",
        "print(df)"
      ],
      "metadata": {
        "colab": {
          "base_uri": "https://localhost:8080/"
        },
        "id": "OANQPAKgTFa7",
        "outputId": "a6ec4e00-1313-4dc9-a3bd-841f9895ac80"
      },
      "execution_count": 34,
      "outputs": [
        {
          "output_type": "stream",
          "name": "stdout",
          "text": [
            "           a         b         c         d         e         f    g\n",
            "0   1.063790  1.787803  1.995091  1.193856  1.327112  7.367651  LT8\n",
            "1   1.163736  1.470567  1.813976  1.664837  1.160332  7.273448  LT8\n",
            "2   1.263711  1.834289  1.123562  1.584730  1.027890  6.834181  LT8\n",
            "3   1.990817  1.331536  1.763171  1.964812  1.745263  8.795599  GT8\n",
            "4   1.868298  1.086286  1.857985  1.827975  1.919672  8.560215  GT8\n",
            "5   1.715636  1.565501  1.984499  1.694227  1.197281  8.157144  GT8\n",
            "6   1.154000  1.967761  1.911230  1.742631  1.958834  8.734455  GT8\n",
            "7   1.498350  1.366419  1.879312  1.324264  1.473487  7.541830  LT8\n",
            "8   1.303748  1.507790  1.897569  1.979831  1.098395  7.787333  LT8\n",
            "9   1.164133  1.236802  1.518530  1.899642  1.190141  7.009247  LT8\n",
            "10  1.038403  1.832716  1.797279  1.220726  1.280533  7.169658  LT8\n",
            "11  1.317602  1.157423  1.082454  1.130274  1.081265  5.769018  LT8\n",
            "12  1.575681  1.663051  1.798643  1.120222  1.031088  7.188684  LT8\n",
            "13  1.864116  1.680895  1.421788  1.644568  1.892045  8.503413  GT8\n",
            "14  1.096017  1.326775  1.889753  1.485231  1.886065  7.683840  LT8\n",
            "15  1.205342  1.268404  1.925978  1.843952  1.097060  7.340737  LT8\n",
            "16  1.856966  1.175532  1.282865  1.633346  1.463595  7.412303  LT8\n",
            "17  1.709419  1.829921  1.910786  1.756003  1.117741  8.323871  GT8\n",
            "18  1.639826  1.350534  1.968446  1.232771  1.645706  7.837283  LT8\n",
            "19  1.010554  1.254102  1.440401  1.128242  1.589967  6.423266  LT8\n"
          ]
        }
      ]
    },
    {
      "cell_type": "code",
      "source": [
        "# Finding the number of rows where the value in column 'g' is 'LT8'\n",
        "lt8_count = df[df[\"g\"] == \"LT8\"].shape[0]\n",
        "std_f_lt8 = df[df[\"g\"] == \"LT8\"]['f'].std()\n",
        "std_f_gt8 = df[df[\"g\"] == \"GT8\"]['f'].std()\n",
        "print(\"Number of rows where g is 'LT8':\", lt8_count)\n",
        "print(\"Standard deviation of f for rows where g is 'LT8':\", std_f_lt8)\n",
        "print(\"Standard deviation of f for rows where g is 'GT8':\", std_f_gt8)"
      ],
      "metadata": {
        "colab": {
          "base_uri": "https://localhost:8080/"
        },
        "id": "JK8YIMzuRkcX",
        "outputId": "03fd3e35-3a30-4d0d-eb46-8f3ab2a54213"
      },
      "execution_count": 35,
      "outputs": [
        {
          "output_type": "stream",
          "name": "stdout",
          "text": [
            "Number of rows where g is 'LT8': 14\n",
            "Standard deviation of f for rows where g is 'LT8': 0.5561432178922714\n",
            "Standard deviation of f for rows where g is 'GT8': 0.24233329631852504\n"
          ]
        }
      ]
    },
    {
      "cell_type": "markdown",
      "source": [
        "12. Write a small piece of code to explain broadcasting in numpy."
      ],
      "metadata": {
        "id": "6hLOshY47XSZ"
      }
    },
    {
      "cell_type": "markdown",
      "source": [
        "The smaller array is \"broadcast\" across the larger array so that they have compatible shapes."
      ],
      "metadata": {
        "id": "St6aDqGcXbUx"
      }
    },
    {
      "cell_type": "code",
      "source": [
        "matrix = [[1,2,3],[4,5,6],[7,8,9]]\n",
        "matrix = np.array(matrix)\n",
        "print(matrix)\n",
        "vector = [-1,0,1]\n",
        "vector = np.array(vector)\n",
        "print(vector)\n",
        "print(vector+matrix) # vector stretched to 3x3 dimension to match the dimension: [[-1,0,1],[-1,0,1],[-1,0,1]]"
      ],
      "metadata": {
        "id": "EvBuig2441uZ",
        "colab": {
          "base_uri": "https://localhost:8080/"
        },
        "outputId": "ae18999f-8c55-4e58-c947-aae98c2c9587"
      },
      "execution_count": 36,
      "outputs": [
        {
          "output_type": "stream",
          "name": "stdout",
          "text": [
            "[[1 2 3]\n",
            " [4 5 6]\n",
            " [7 8 9]]\n",
            "[-1  0  1]\n",
            "[[ 0  2  4]\n",
            " [ 3  5  7]\n",
            " [ 6  8 10]]\n"
          ]
        }
      ]
    },
    {
      "cell_type": "markdown",
      "source": [
        "13. Write a function to compute the argmin of a numpy array. The function should take a numpy array as input and return the index of the minimum element. You can use the np.argmin function to verify your solution."
      ],
      "metadata": {
        "id": "Tb7mYVIx7b0s"
      }
    },
    {
      "cell_type": "code",
      "source": [
        "import numpy as np\n",
        "def argmin(A):\n",
        "    min_value = float(\"inf\")\n",
        "    for i in range(len(A)):\n",
        "        if A[i]<min_value:\n",
        "            min_value = A[i]\n",
        "            min_index = i\n",
        "    return min_index\n",
        "arr = np.array([10,3,2,4,2])\n",
        "print(argmin(arr))\n",
        "print(np.argmin(arr))"
      ],
      "metadata": {
        "colab": {
          "base_uri": "https://localhost:8080/"
        },
        "id": "IfUf8JiG4qr7",
        "outputId": "6538392e-c125-4073-ee34-2f5133bad841"
      },
      "execution_count": 37,
      "outputs": [
        {
          "output_type": "stream",
          "name": "stdout",
          "text": [
            "2\n",
            "2\n"
          ]
        }
      ]
    }
  ]
}